{
  "nbformat": 4,
  "nbformat_minor": 0,
  "metadata": {
    "colab": {
      "name": "hand_guesture_rating.ipynb",
      "provenance": [],
      "collapsed_sections": [],
      "authorship_tag": "ABX9TyMImWeWyriZJnNT3f5yWEXD",
      "include_colab_link": true
    },
    "kernelspec": {
      "name": "python3",
      "display_name": "Python 3"
    },
    "accelerator": "GPU"
  },
  "cells": [
    {
      "cell_type": "markdown",
      "metadata": {
        "id": "view-in-github",
        "colab_type": "text"
      },
      "source": [
        "<a href=\"https://colab.research.google.com/github/madhuameneni/Hand_guesture_rating_DeepLearning_Model/blob/main/hand_guesture_rating.ipynb\" target=\"_parent\"><img src=\"https://colab.research.google.com/assets/colab-badge.svg\" alt=\"Open In Colab\"/></a>"
      ]
    },
    {
      "cell_type": "code",
      "metadata": {
        "colab": {
          "base_uri": "https://localhost:8080/"
        },
        "id": "nqnAhMOu_gxO",
        "outputId": "4e113630-5b43-4b69-fec1-5baad5e0b1d9"
      },
      "source": [
        "from google.colab import drive\r\n",
        "drive.mount('/content/drive/')"
      ],
      "execution_count": 2,
      "outputs": [
        {
          "output_type": "stream",
          "text": [
            "Mounted at /content/drive/\n"
          ],
          "name": "stdout"
        }
      ]
    },
    {
      "cell_type": "code",
      "metadata": {
        "id": "HyjnP1tdEjvk"
      },
      "source": [
        "!pip install -q keras"
      ],
      "execution_count": 3,
      "outputs": []
    },
    {
      "cell_type": "code",
      "metadata": {
        "id": "QpEPNc3VEyAB"
      },
      "source": [
        "import keras"
      ],
      "execution_count": 4,
      "outputs": []
    },
    {
      "cell_type": "code",
      "metadata": {
        "id": "TjGxTzCYGVP4"
      },
      "source": [
        "import tensorflow as tf\r\n",
        "from tensorflow.keras.datasets import cifar10\r\n",
        "from tensorflow.keras.preprocessing.image import ImageDataGenerator\r\n",
        "from tensorflow.keras.models import Sequential\r\n",
        "from tensorflow.keras.layers import Dense, Dropout, Activation, Flatten\r\n",
        "from tensorflow.keras.layers import Conv2D, MaxPooling2D\r\n",
        "# more info on callbakcs: https://keras.io/callbacks/ model saver is cool too.\r\n",
        "from tensorflow.keras.callbacks import TensorBoard\r\n",
        "import pickle\r\n",
        "import time"
      ],
      "execution_count": 5,
      "outputs": []
    },
    {
      "cell_type": "code",
      "metadata": {
        "id": "DJaVYzonGrUH"
      },
      "source": [
        "NAME = \"hand_guestures-CNN\"\r\n",
        "import numpy as np"
      ],
      "execution_count": 6,
      "outputs": []
    },
    {
      "cell_type": "code",
      "metadata": {
        "id": "Ew6jwsJxG1tF"
      },
      "source": [
        "pickle_in = open(\"/content/drive/MyDrive/data/X.pickle\",\"rb\")\r\n",
        "X = pickle.load(pickle_in)\r\n",
        "\r\n",
        "pickle_in = open(\"/content/drive/MyDrive/data/y.pickle\",\"rb\")\r\n",
        "y = pickle.load(pickle_in)\r\n",
        "\r\n",
        "X = X/255.0\r\n",
        "y = np.array(y)"
      ],
      "execution_count": 7,
      "outputs": []
    },
    {
      "cell_type": "code",
      "metadata": {
        "colab": {
          "base_uri": "https://localhost:8080/"
        },
        "id": "m0oZ2hF6HSm4",
        "outputId": "29188a56-c128-4a7e-d3da-b07b093a537d"
      },
      "source": [
        "# Create a CNN Sequential Model\r\n",
        "model = Sequential()\r\n",
        "model.add(Conv2D(32, (5,5), activation = 'relu', input_shape=X.shape[1:]))\r\n",
        "model.add(MaxPooling2D((2,2)))\r\n",
        "model.add(Conv2D(64, (3, 3), activation='relu')) \r\n",
        "model.add(MaxPooling2D((2, 2)))\r\n",
        "model.add(Conv2D(128, (3, 3), activation='relu')) \r\n",
        "model.add(MaxPooling2D((2, 2)))\r\n",
        "model.add(Conv2D(128, (3, 3), activation='relu')) \r\n",
        "model.add(MaxPooling2D((2, 2)))\r\n",
        "model.add(Flatten())\r\n",
        "model.add(Dropout(0.3))\r\n",
        "model.add(Dense(128, activation='relu'))\r\n",
        "model.add(Dense(3, activation='softmax'))\r\n",
        "#Model configuration for training purpose\r\n",
        "tensorboard = TensorBoard(log_dir=\"logs/{}\".format(NAME))\r\n",
        "model.compile(optimizer='adam', loss='sparse_categorical_crossentropy', metrics=['accuracy'])\r\n",
        "model.fit(X, y,\r\n",
        "                      batch_size=32,\r\n",
        "                      epochs=10,\r\n",
        "                      validation_split=0.3,\r\n",
        "                      callbacks=[tensorboard])\r\n",
        "model.save('64x3-CNN.model')\r\n"
      ],
      "execution_count": 13,
      "outputs": [
        {
          "output_type": "stream",
          "text": [
            "Epoch 1/10\n",
            "92/92 [==============================] - 2s 16ms/step - loss: 0.7035 - accuracy: 0.6379 - val_loss: 0.1846 - val_accuracy: 0.9421\n",
            "Epoch 2/10\n",
            "92/92 [==============================] - 1s 13ms/step - loss: 0.1442 - accuracy: 0.9469 - val_loss: 0.0628 - val_accuracy: 0.9794\n",
            "Epoch 3/10\n",
            "92/92 [==============================] - 1s 13ms/step - loss: 0.0618 - accuracy: 0.9799 - val_loss: 0.0587 - val_accuracy: 0.9833\n",
            "Epoch 4/10\n",
            "92/92 [==============================] - 1s 13ms/step - loss: 0.0358 - accuracy: 0.9864 - val_loss: 0.0443 - val_accuracy: 0.9905\n",
            "Epoch 5/10\n",
            "92/92 [==============================] - 1s 13ms/step - loss: 0.0174 - accuracy: 0.9943 - val_loss: 0.0314 - val_accuracy: 0.9944\n",
            "Epoch 6/10\n",
            "92/92 [==============================] - 1s 13ms/step - loss: 0.0222 - accuracy: 0.9945 - val_loss: 0.0514 - val_accuracy: 0.9881\n",
            "Epoch 7/10\n",
            "92/92 [==============================] - 1s 13ms/step - loss: 0.0187 - accuracy: 0.9930 - val_loss: 0.0475 - val_accuracy: 0.9952\n",
            "Epoch 8/10\n",
            "92/92 [==============================] - 1s 13ms/step - loss: 0.0018 - accuracy: 1.0000 - val_loss: 0.0379 - val_accuracy: 0.9944\n",
            "Epoch 9/10\n",
            "92/92 [==============================] - 1s 13ms/step - loss: 2.3333e-04 - accuracy: 1.0000 - val_loss: 0.0379 - val_accuracy: 0.9960\n",
            "Epoch 10/10\n",
            "92/92 [==============================] - 1s 13ms/step - loss: 1.2962e-04 - accuracy: 1.0000 - val_loss: 0.0389 - val_accuracy: 0.9960\n",
            "INFO:tensorflow:Assets written to: 64x3-CNN.model/assets\n"
          ],
          "name": "stdout"
        }
      ]
    },
    {
      "cell_type": "code",
      "metadata": {
        "colab": {
          "base_uri": "https://localhost:8080/"
        },
        "id": "g-0B44MpsXst",
        "outputId": "2db1aa7c-9602-4eaa-fada-603c706e843e"
      },
      "source": [
        "import cv2\r\n",
        "import tensorflow as tf\r\n",
        "\r\n",
        "CATEGORIES = [\"one\", \"two\", \"three\"]\r\n",
        "def prepare(filepath):\r\n",
        "    IMG_SIZE = 100\r\n",
        "    img_array = cv2.imread(filepath, cv2.IMREAD_GRAYSCALE)\r\n",
        "    new_array = cv2.resize(img_array, (IMG_SIZE, IMG_SIZE))\r\n",
        "    return new_array.reshape(-1, IMG_SIZE, IMG_SIZE, 1)\r\n",
        "\r\n",
        "\r\n",
        "model = tf.keras.models.load_model(\"64x3-CNN.model\")\r\n",
        "\r\n",
        "prediction = model.predict([prepare('/content/drive/MyDrive/data/three.jpg')])\r\n",
        "print(prediction)  # will be a list in a list.\r\n",
        "print(CATEGORIES[int(prediction[0][0])])\r\n",
        "y_pred = np.argmax(prediction, axis=1)\r\n",
        "print(y_pred)"
      ],
      "execution_count": 22,
      "outputs": [
        {
          "output_type": "stream",
          "text": [
            "WARNING:tensorflow:11 out of the last 11 calls to <function Model.make_predict_function.<locals>.predict_function at 0x7f5ca82070d0> triggered tf.function retracing. Tracing is expensive and the excessive number of tracings could be due to (1) creating @tf.function repeatedly in a loop, (2) passing tensors with different shapes, (3) passing Python objects instead of tensors. For (1), please define your @tf.function outside of the loop. For (2), @tf.function has experimental_relax_shapes=True option that relaxes argument shapes that can avoid unnecessary retracing. For (3), please refer to https://www.tensorflow.org/guide/function#controlling_retracing and https://www.tensorflow.org/api_docs/python/tf/function for  more details.\n",
            "[[0. 0. 1.]]\n",
            "one\n",
            "[2]\n"
          ],
          "name": "stdout"
        }
      ]
    },
    {
      "cell_type": "code",
      "metadata": {
        "colab": {
          "base_uri": "https://localhost:8080/"
        },
        "id": "jqlEZemuozs_",
        "outputId": "ccd159d3-03b4-42cd-cee6-8c6588763e08"
      },
      "source": [
        "converter = tf.lite.TFLiteConverter.from_keras_model(model)\r\n",
        "tflite_float_model = converter.convert()\r\n",
        "\r\n",
        "# Show model size in KBs.\r\n",
        "float_model_size = len(tflite_float_model) / 1024\r\n",
        "print('Float model size = %dKBs.' % float_model_size)"
      ],
      "execution_count": 23,
      "outputs": [
        {
          "output_type": "stream",
          "text": [
            "INFO:tensorflow:Assets written to: /tmp/tmpk_ev15kx/assets\n",
            "Float model size = 1970KBs.\n"
          ],
          "name": "stdout"
        }
      ]
    },
    {
      "cell_type": "code",
      "metadata": {
        "colab": {
          "base_uri": "https://localhost:8080/"
        },
        "id": "tEcfrI-opHVR",
        "outputId": "59dcb365-074d-4d28-ec35-b3d2f8845aba"
      },
      "source": [
        "# Re-convert the model to TF Lite using quantization.\r\n",
        "converter.optimizations = [tf.lite.Optimize.DEFAULT]\r\n",
        "tflite_quantized_model = converter.convert()\r\n",
        "\r\n",
        "# Show model size in KBs.\r\n",
        "quantized_model_size = len(tflite_quantized_model) / 1024\r\n",
        "print('Quantized model size = %dKBs,' % quantized_model_size)\r\n",
        "print('which is about %d%% of the float model size.'\\\r\n",
        "      % (quantized_model_size * 100 / float_model_size))"
      ],
      "execution_count": 24,
      "outputs": [
        {
          "output_type": "stream",
          "text": [
            "INFO:tensorflow:Assets written to: /tmp/tmp6dwcsxt3/assets\n"
          ],
          "name": "stdout"
        },
        {
          "output_type": "stream",
          "text": [
            "INFO:tensorflow:Assets written to: /tmp/tmp6dwcsxt3/assets\n"
          ],
          "name": "stderr"
        },
        {
          "output_type": "stream",
          "text": [
            "Quantized model size = 507KBs,\n",
            "which is about 25% of the float model size.\n"
          ],
          "name": "stdout"
        }
      ]
    },
    {
      "cell_type": "code",
      "metadata": {
        "colab": {
          "base_uri": "https://localhost:8080/"
        },
        "id": "ahjRvgR0rStF",
        "outputId": "eed1c0ec-9441-4c1d-afb0-674c563c841b"
      },
      "source": [
        "def prepare_test(filepath):\r\n",
        "    IMG_SIZE = 224\r\n",
        "    img_array = cv2.imread(filepath, cv2.IMREAD_GRAYSCALE)\r\n",
        "    new_array = cv2.resize(img_array, (IMG_SIZE, IMG_SIZE))\r\n",
        "    return new_array.reshape(-1, IMG_SIZE, IMG_SIZE, 1)\r\n",
        "\r\n",
        "def normalize(row):\r\n",
        "    image, label = row['image'], row['label']\r\n",
        "    image = tf.dtypes.cast(image, tf.float32)\r\n",
        "    image = tf.image.resize(image, (224, 224))\r\n",
        "    image = image / 255.0\r\n",
        "    return image, label\r\n",
        "\r\n",
        "def evaluate_tflite_model(tflite_model):\r\n",
        "  # Initialize TFLite interpreter using the model.\r\n",
        "  interpreter = tf.lite.Interpreter(model_content=tflite_model)\r\n",
        "  interpreter.allocate_tensors()\r\n",
        "  input_tensor_index = interpreter.get_input_details()[0][\"index\"]\r\n",
        "  output = interpreter.tensor(interpreter.get_output_details()[0][\"index\"])\r\n",
        "  test_image = image = tf.dtypes.cast(prepare('/content/drive/MyDrive/data/one.jpg'), tf.float32)\r\n",
        "  interpreter.set_tensor(input_tensor_index, test_image)\r\n",
        "\r\n",
        "    # Run inference.\r\n",
        "  interpreter.invoke()\r\n",
        "\r\n",
        "    # Post-processing: remove batch dimension and find the digit with highest\r\n",
        "    # probability.\r\n",
        "  digit = np.argmax(output()[0])\r\n",
        "  print(digit)\r\n",
        "\r\n",
        "evaluate_tflite_model(tflite_quantized_model)\r\n"
      ],
      "execution_count": 38,
      "outputs": [
        {
          "output_type": "stream",
          "text": [
            "0\n"
          ],
          "name": "stdout"
        }
      ]
    },
    {
      "cell_type": "code",
      "metadata": {
        "colab": {
          "base_uri": "https://localhost:8080/",
          "height": 34
        },
        "id": "1pKNaCs7xMTE",
        "outputId": "b895c770-9328-45ad-a68f-2e78807f7c61"
      },
      "source": [
        "# Save the quantized model to file to the Downloads directory\r\n",
        "f = open('hand_rating.tflite', \"wb\")\r\n",
        "f.write(tflite_quantized_model)\r\n",
        "f.close()\r\n",
        "\r\n",
        "# Download the digit classification model\r\n",
        "from google.colab import files\r\n",
        "files.download('hand_rating.tflite')\r\n",
        "\r\n",
        "print('`mnist.tflite` has been downloaded')"
      ],
      "execution_count": 40,
      "outputs": [
        {
          "output_type": "display_data",
          "data": {
            "application/javascript": [
              "\n",
              "    async function download(id, filename, size) {\n",
              "      if (!google.colab.kernel.accessAllowed) {\n",
              "        return;\n",
              "      }\n",
              "      const div = document.createElement('div');\n",
              "      const label = document.createElement('label');\n",
              "      label.textContent = `Downloading \"${filename}\": `;\n",
              "      div.appendChild(label);\n",
              "      const progress = document.createElement('progress');\n",
              "      progress.max = size;\n",
              "      div.appendChild(progress);\n",
              "      document.body.appendChild(div);\n",
              "\n",
              "      const buffers = [];\n",
              "      let downloaded = 0;\n",
              "\n",
              "      const channel = await google.colab.kernel.comms.open(id);\n",
              "      // Send a message to notify the kernel that we're ready.\n",
              "      channel.send({})\n",
              "\n",
              "      for await (const message of channel.messages) {\n",
              "        // Send a message to notify the kernel that we're ready.\n",
              "        channel.send({})\n",
              "        if (message.buffers) {\n",
              "          for (const buffer of message.buffers) {\n",
              "            buffers.push(buffer);\n",
              "            downloaded += buffer.byteLength;\n",
              "            progress.value = downloaded;\n",
              "          }\n",
              "        }\n",
              "      }\n",
              "      const blob = new Blob(buffers, {type: 'application/binary'});\n",
              "      const a = document.createElement('a');\n",
              "      a.href = window.URL.createObjectURL(blob);\n",
              "      a.download = filename;\n",
              "      div.appendChild(a);\n",
              "      a.click();\n",
              "      div.remove();\n",
              "    }\n",
              "  "
            ],
            "text/plain": [
              "<IPython.core.display.Javascript object>"
            ]
          },
          "metadata": {
            "tags": []
          }
        },
        {
          "output_type": "display_data",
          "data": {
            "application/javascript": [
              "download(\"download_dcdde955-fad1-45c7-bf57-8e291a1575e7\", \"hand_rating.tflite\", 519840)"
            ],
            "text/plain": [
              "<IPython.core.display.Javascript object>"
            ]
          },
          "metadata": {
            "tags": []
          }
        },
        {
          "output_type": "stream",
          "text": [
            "`mnist.tflite` has been downloaded\n"
          ],
          "name": "stdout"
        }
      ]
    }
  ]
}